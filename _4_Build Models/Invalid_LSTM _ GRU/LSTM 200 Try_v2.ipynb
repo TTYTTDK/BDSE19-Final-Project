{
 "cells": [
  {
   "cell_type": "code",
   "execution_count": 1,
   "metadata": {
    "executionInfo": {
     "elapsed": 242,
     "status": "ok",
     "timestamp": 1626314503970,
     "user": {
      "displayName": "PMLDL TTBDSE19",
      "photoUrl": "",
      "userId": "11912906618479751888"
     },
     "user_tz": -480
    },
    "id": "pSYz8b8-fH3a"
   },
   "outputs": [],
   "source": [
    "import pandas as pd\n",
    "from sklearn.preprocessing import MinMaxScaler \n",
    "import numpy as np\n",
    "import matplotlib.pyplot as plt\n",
    "import torch\n",
    "import torch.nn as nn\n",
    "import time"
   ]
  },
  {
   "cell_type": "code",
   "execution_count": 2,
   "metadata": {
    "executionInfo": {
     "elapsed": 244,
     "status": "ok",
     "timestamp": 1626315301870,
     "user": {
      "displayName": "PMLDL TTBDSE19",
      "photoUrl": "",
      "userId": "11912906618479751888"
     },
     "user_tz": -480
    },
    "id": "k1m-jfrAgWD7"
   },
   "outputs": [],
   "source": [
    "df = pd.read_csv('Try data mining/afdata/AF_Stock_TW_1301.TW.csv')"
   ]
  },
  {
   "cell_type": "code",
   "execution_count": 3,
   "metadata": {
    "colab": {
     "base_uri": "https://localhost:8080/",
     "height": 434
    },
    "executionInfo": {
     "elapsed": 260,
     "status": "ok",
     "timestamp": 1626315346657,
     "user": {
      "displayName": "PMLDL TTBDSE19",
      "photoUrl": "",
      "userId": "11912906618479751888"
     },
     "user_tz": -480
    },
    "id": "s60HiHgfyTbB",
    "outputId": "23092aba-d8af-4dce-b69c-ed65512d4469"
   },
   "outputs": [],
   "source": [
    "df = df.drop(['key_0'], axis='columns')"
   ]
  },
  {
   "cell_type": "code",
   "execution_count": 4,
   "metadata": {
    "executionInfo": {
     "elapsed": 231,
     "status": "ok",
     "timestamp": 1626315473535,
     "user": {
      "displayName": "PMLDL TTBDSE19",
      "photoUrl": "",
      "userId": "11912906618479751888"
     },
     "user_tz": -480
    },
    "id": "AGhbRPcihxos"
   },
   "outputs": [],
   "source": [
    "# 保留前 100 row 空值小於等於 60% 的 column\n",
    "df = df[df.columns[df.iloc[:101,:].isnull().sum()/100 <= 0.6]]"
   ]
  },
  {
   "cell_type": "code",
   "execution_count": 5,
   "metadata": {
    "executionInfo": {
     "elapsed": 235,
     "status": "ok",
     "timestamp": 1626315511015,
     "user": {
      "displayName": "PMLDL TTBDSE19",
      "photoUrl": "",
      "userId": "11912906618479751888"
     },
     "user_tz": -480
    },
    "id": "UMJ_kEbK9URw"
   },
   "outputs": [],
   "source": [
    "# 刪除前 58 row 當新的 df\n",
    "df.drop([x for x in range(58)], axis='index', inplace=True)"
   ]
  },
  {
   "cell_type": "code",
   "execution_count": 6,
   "metadata": {
    "executionInfo": {
     "elapsed": 232,
     "status": "ok",
     "timestamp": 1626315554256,
     "user": {
      "displayName": "PMLDL TTBDSE19",
      "photoUrl": "",
      "userId": "11912906618479751888"
     },
     "user_tz": -480
    },
    "id": "eGSuC-Eb9bYt"
   },
   "outputs": [],
   "source": [
    "# index reset\n",
    "df.reset_index(drop=True, inplace=True)"
   ]
  },
  {
   "cell_type": "code",
   "execution_count": 7,
   "metadata": {
    "colab": {
     "base_uri": "https://localhost:8080/",
     "height": 434
    },
    "executionInfo": {
     "elapsed": 252,
     "status": "ok",
     "timestamp": 1626315563093,
     "user": {
      "displayName": "PMLDL TTBDSE19",
      "photoUrl": "",
      "userId": "11912906618479751888"
     },
     "user_tz": -480
    },
    "id": "cvsbl9Fm8xKC",
    "outputId": "26352738-7655-4b2b-eda2-a9ba31f88328"
   },
   "outputs": [
    {
     "data": {
      "text/html": [
       "<div>\n",
       "<style scoped>\n",
       "    .dataframe tbody tr th:only-of-type {\n",
       "        vertical-align: middle;\n",
       "    }\n",
       "\n",
       "    .dataframe tbody tr th {\n",
       "        vertical-align: top;\n",
       "    }\n",
       "\n",
       "    .dataframe thead th {\n",
       "        text-align: right;\n",
       "    }\n",
       "</style>\n",
       "<table border=\"1\" class=\"dataframe\">\n",
       "  <thead>\n",
       "    <tr style=\"text-align: right;\">\n",
       "      <th></th>\n",
       "      <th>open</th>\n",
       "      <th>high</th>\n",
       "      <th>low</th>\n",
       "      <th>close</th>\n",
       "      <th>volume</th>\n",
       "      <th>ht_dcperiod</th>\n",
       "      <th>inphase</th>\n",
       "      <th>quadrature</th>\n",
       "      <th>ht_trendmode</th>\n",
       "      <th>add</th>\n",
       "      <th>...</th>\n",
       "      <th>day</th>\n",
       "      <th>weekofyear</th>\n",
       "      <th>dayofyear</th>\n",
       "      <th>dayofweek</th>\n",
       "      <th>bias</th>\n",
       "      <th>ama</th>\n",
       "      <th>psy</th>\n",
       "      <th>dpo</th>\n",
       "      <th>vhf</th>\n",
       "      <th>rvi</th>\n",
       "    </tr>\n",
       "  </thead>\n",
       "  <tbody>\n",
       "    <tr>\n",
       "      <th>0</th>\n",
       "      <td>65.568988</td>\n",
       "      <td>66.817919</td>\n",
       "      <td>65.256752</td>\n",
       "      <td>66.193451</td>\n",
       "      <td>16364400.0</td>\n",
       "      <td>21.675377</td>\n",
       "      <td>-0.084339</td>\n",
       "      <td>1.179410</td>\n",
       "      <td>0</td>\n",
       "      <td>132.074670</td>\n",
       "      <td>...</td>\n",
       "      <td>6</td>\n",
       "      <td>14</td>\n",
       "      <td>96</td>\n",
       "      <td>3</td>\n",
       "      <td>0.062710</td>\n",
       "      <td>1.331361</td>\n",
       "      <td>50.000000</td>\n",
       "      <td>2.299174</td>\n",
       "      <td>0.348485</td>\n",
       "      <td>0.053824</td>\n",
       "    </tr>\n",
       "    <tr>\n",
       "      <th>1</th>\n",
       "      <td>66.817919</td>\n",
       "      <td>67.130155</td>\n",
       "      <td>64.007821</td>\n",
       "      <td>66.193451</td>\n",
       "      <td>17040400.0</td>\n",
       "      <td>21.813179</td>\n",
       "      <td>0.808491</td>\n",
       "      <td>2.935545</td>\n",
       "      <td>0</td>\n",
       "      <td>131.137976</td>\n",
       "      <td>...</td>\n",
       "      <td>7</td>\n",
       "      <td>14</td>\n",
       "      <td>97</td>\n",
       "      <td>4</td>\n",
       "      <td>0.057779</td>\n",
       "      <td>1.562289</td>\n",
       "      <td>50.000000</td>\n",
       "      <td>2.043710</td>\n",
       "      <td>0.389831</td>\n",
       "      <td>0.035007</td>\n",
       "    </tr>\n",
       "    <tr>\n",
       "      <th>2</th>\n",
       "      <td>66.193459</td>\n",
       "      <td>66.193459</td>\n",
       "      <td>64.944528</td>\n",
       "      <td>65.256760</td>\n",
       "      <td>9403680.0</td>\n",
       "      <td>22.217000</td>\n",
       "      <td>2.162174</td>\n",
       "      <td>1.898309</td>\n",
       "      <td>0</td>\n",
       "      <td>131.137987</td>\n",
       "      <td>...</td>\n",
       "      <td>8</td>\n",
       "      <td>14</td>\n",
       "      <td>98</td>\n",
       "      <td>5</td>\n",
       "      <td>0.037839</td>\n",
       "      <td>1.763492</td>\n",
       "      <td>45.833333</td>\n",
       "      <td>0.879939</td>\n",
       "      <td>0.379121</td>\n",
       "      <td>0.016787</td>\n",
       "    </tr>\n",
       "    <tr>\n",
       "      <th>3</th>\n",
       "      <td>65.568985</td>\n",
       "      <td>65.568985</td>\n",
       "      <td>64.944517</td>\n",
       "      <td>65.568985</td>\n",
       "      <td>5519280.0</td>\n",
       "      <td>22.792088</td>\n",
       "      <td>2.033302</td>\n",
       "      <td>-0.532854</td>\n",
       "      <td>0</td>\n",
       "      <td>130.513502</td>\n",
       "      <td>...</td>\n",
       "      <td>11</td>\n",
       "      <td>15</td>\n",
       "      <td>101</td>\n",
       "      <td>1</td>\n",
       "      <td>0.036218</td>\n",
       "      <td>1.933846</td>\n",
       "      <td>45.833333</td>\n",
       "      <td>0.993470</td>\n",
       "      <td>0.376022</td>\n",
       "      <td>-0.016290</td>\n",
       "    </tr>\n",
       "    <tr>\n",
       "      <th>4</th>\n",
       "      <td>65.568979</td>\n",
       "      <td>65.568979</td>\n",
       "      <td>63.695576</td>\n",
       "      <td>64.944511</td>\n",
       "      <td>12793040.0</td>\n",
       "      <td>23.401725</td>\n",
       "      <td>1.481944</td>\n",
       "      <td>-0.619500</td>\n",
       "      <td>0</td>\n",
       "      <td>129.264555</td>\n",
       "      <td>...</td>\n",
       "      <td>12</td>\n",
       "      <td>15</td>\n",
       "      <td>102</td>\n",
       "      <td>2</td>\n",
       "      <td>0.020709</td>\n",
       "      <td>2.074851</td>\n",
       "      <td>45.833333</td>\n",
       "      <td>0.170303</td>\n",
       "      <td>0.367021</td>\n",
       "      <td>0.028569</td>\n",
       "    </tr>\n",
       "    <tr>\n",
       "      <th>...</th>\n",
       "      <td>...</td>\n",
       "      <td>...</td>\n",
       "      <td>...</td>\n",
       "      <td>...</td>\n",
       "      <td>...</td>\n",
       "      <td>...</td>\n",
       "      <td>...</td>\n",
       "      <td>...</td>\n",
       "      <td>...</td>\n",
       "      <td>...</td>\n",
       "      <td>...</td>\n",
       "      <td>...</td>\n",
       "      <td>...</td>\n",
       "      <td>...</td>\n",
       "      <td>...</td>\n",
       "      <td>...</td>\n",
       "      <td>...</td>\n",
       "      <td>...</td>\n",
       "      <td>...</td>\n",
       "      <td>...</td>\n",
       "      <td>...</td>\n",
       "    </tr>\n",
       "    <tr>\n",
       "      <th>2503</th>\n",
       "      <td>103.500000</td>\n",
       "      <td>104.000000</td>\n",
       "      <td>102.000000</td>\n",
       "      <td>103.000000</td>\n",
       "      <td>3044218.0</td>\n",
       "      <td>22.051860</td>\n",
       "      <td>-0.820773</td>\n",
       "      <td>-2.885485</td>\n",
       "      <td>0</td>\n",
       "      <td>206.000000</td>\n",
       "      <td>...</td>\n",
       "      <td>24</td>\n",
       "      <td>25</td>\n",
       "      <td>175</td>\n",
       "      <td>4</td>\n",
       "      <td>-0.005792</td>\n",
       "      <td>0.422000</td>\n",
       "      <td>50.000000</td>\n",
       "      <td>-0.136364</td>\n",
       "      <td>0.326683</td>\n",
       "      <td>0.135837</td>\n",
       "    </tr>\n",
       "    <tr>\n",
       "      <th>2504</th>\n",
       "      <td>102.500000</td>\n",
       "      <td>105.000000</td>\n",
       "      <td>102.500000</td>\n",
       "      <td>104.000000</td>\n",
       "      <td>7467282.0</td>\n",
       "      <td>22.057605</td>\n",
       "      <td>-2.031413</td>\n",
       "      <td>-2.632432</td>\n",
       "      <td>0</td>\n",
       "      <td>207.500000</td>\n",
       "      <td>...</td>\n",
       "      <td>25</td>\n",
       "      <td>25</td>\n",
       "      <td>176</td>\n",
       "      <td>5</td>\n",
       "      <td>0.002410</td>\n",
       "      <td>0.245000</td>\n",
       "      <td>50.000000</td>\n",
       "      <td>0.772727</td>\n",
       "      <td>0.248718</td>\n",
       "      <td>0.146439</td>\n",
       "    </tr>\n",
       "    <tr>\n",
       "      <th>2505</th>\n",
       "      <td>104.500000</td>\n",
       "      <td>105.000000</td>\n",
       "      <td>102.500000</td>\n",
       "      <td>103.000000</td>\n",
       "      <td>5593404.0</td>\n",
       "      <td>22.538018</td>\n",
       "      <td>-3.167910</td>\n",
       "      <td>-0.078245</td>\n",
       "      <td>0</td>\n",
       "      <td>207.500000</td>\n",
       "      <td>...</td>\n",
       "      <td>28</td>\n",
       "      <td>26</td>\n",
       "      <td>179</td>\n",
       "      <td>1</td>\n",
       "      <td>-0.007946</td>\n",
       "      <td>0.057000</td>\n",
       "      <td>45.833333</td>\n",
       "      <td>0.000000</td>\n",
       "      <td>0.273239</td>\n",
       "      <td>0.098654</td>\n",
       "    </tr>\n",
       "    <tr>\n",
       "      <th>2506</th>\n",
       "      <td>102.500000</td>\n",
       "      <td>104.500000</td>\n",
       "      <td>102.000000</td>\n",
       "      <td>104.000000</td>\n",
       "      <td>6156300.0</td>\n",
       "      <td>23.225823</td>\n",
       "      <td>-2.330788</td>\n",
       "      <td>5.442106</td>\n",
       "      <td>0</td>\n",
       "      <td>206.500000</td>\n",
       "      <td>...</td>\n",
       "      <td>29</td>\n",
       "      <td>26</td>\n",
       "      <td>180</td>\n",
       "      <td>2</td>\n",
       "      <td>0.001444</td>\n",
       "      <td>-0.119000</td>\n",
       "      <td>45.833333</td>\n",
       "      <td>0.954545</td>\n",
       "      <td>0.270195</td>\n",
       "      <td>0.129233</td>\n",
       "    </tr>\n",
       "    <tr>\n",
       "      <th>2507</th>\n",
       "      <td>104.000000</td>\n",
       "      <td>104.500000</td>\n",
       "      <td>102.500000</td>\n",
       "      <td>103.000000</td>\n",
       "      <td>7752310.0</td>\n",
       "      <td>23.745646</td>\n",
       "      <td>0.456166</td>\n",
       "      <td>5.970612</td>\n",
       "      <td>0</td>\n",
       "      <td>207.000000</td>\n",
       "      <td>...</td>\n",
       "      <td>30</td>\n",
       "      <td>26</td>\n",
       "      <td>181</td>\n",
       "      <td>3</td>\n",
       "      <td>-0.008185</td>\n",
       "      <td>-0.301000</td>\n",
       "      <td>45.833333</td>\n",
       "      <td>0.045455</td>\n",
       "      <td>0.238636</td>\n",
       "      <td>0.150279</td>\n",
       "    </tr>\n",
       "  </tbody>\n",
       "</table>\n",
       "<p>2508 rows × 183 columns</p>\n",
       "</div>"
      ],
      "text/plain": [
       "            open        high         low       close      volume  ht_dcperiod  \\\n",
       "0      65.568988   66.817919   65.256752   66.193451  16364400.0    21.675377   \n",
       "1      66.817919   67.130155   64.007821   66.193451  17040400.0    21.813179   \n",
       "2      66.193459   66.193459   64.944528   65.256760   9403680.0    22.217000   \n",
       "3      65.568985   65.568985   64.944517   65.568985   5519280.0    22.792088   \n",
       "4      65.568979   65.568979   63.695576   64.944511  12793040.0    23.401725   \n",
       "...          ...         ...         ...         ...         ...          ...   \n",
       "2503  103.500000  104.000000  102.000000  103.000000   3044218.0    22.051860   \n",
       "2504  102.500000  105.000000  102.500000  104.000000   7467282.0    22.057605   \n",
       "2505  104.500000  105.000000  102.500000  103.000000   5593404.0    22.538018   \n",
       "2506  102.500000  104.500000  102.000000  104.000000   6156300.0    23.225823   \n",
       "2507  104.000000  104.500000  102.500000  103.000000   7752310.0    23.745646   \n",
       "\n",
       "       inphase  quadrature  ht_trendmode         add  ...  day  weekofyear  \\\n",
       "0    -0.084339    1.179410             0  132.074670  ...    6          14   \n",
       "1     0.808491    2.935545             0  131.137976  ...    7          14   \n",
       "2     2.162174    1.898309             0  131.137987  ...    8          14   \n",
       "3     2.033302   -0.532854             0  130.513502  ...   11          15   \n",
       "4     1.481944   -0.619500             0  129.264555  ...   12          15   \n",
       "...        ...         ...           ...         ...  ...  ...         ...   \n",
       "2503 -0.820773   -2.885485             0  206.000000  ...   24          25   \n",
       "2504 -2.031413   -2.632432             0  207.500000  ...   25          25   \n",
       "2505 -3.167910   -0.078245             0  207.500000  ...   28          26   \n",
       "2506 -2.330788    5.442106             0  206.500000  ...   29          26   \n",
       "2507  0.456166    5.970612             0  207.000000  ...   30          26   \n",
       "\n",
       "      dayofyear  dayofweek      bias       ama        psy       dpo       vhf  \\\n",
       "0            96          3  0.062710  1.331361  50.000000  2.299174  0.348485   \n",
       "1            97          4  0.057779  1.562289  50.000000  2.043710  0.389831   \n",
       "2            98          5  0.037839  1.763492  45.833333  0.879939  0.379121   \n",
       "3           101          1  0.036218  1.933846  45.833333  0.993470  0.376022   \n",
       "4           102          2  0.020709  2.074851  45.833333  0.170303  0.367021   \n",
       "...         ...        ...       ...       ...        ...       ...       ...   \n",
       "2503        175          4 -0.005792  0.422000  50.000000 -0.136364  0.326683   \n",
       "2504        176          5  0.002410  0.245000  50.000000  0.772727  0.248718   \n",
       "2505        179          1 -0.007946  0.057000  45.833333  0.000000  0.273239   \n",
       "2506        180          2  0.001444 -0.119000  45.833333  0.954545  0.270195   \n",
       "2507        181          3 -0.008185 -0.301000  45.833333  0.045455  0.238636   \n",
       "\n",
       "           rvi  \n",
       "0     0.053824  \n",
       "1     0.035007  \n",
       "2     0.016787  \n",
       "3    -0.016290  \n",
       "4     0.028569  \n",
       "...        ...  \n",
       "2503  0.135837  \n",
       "2504  0.146439  \n",
       "2505  0.098654  \n",
       "2506  0.129233  \n",
       "2507  0.150279  \n",
       "\n",
       "[2508 rows x 183 columns]"
      ]
     },
     "execution_count": 7,
     "metadata": {},
     "output_type": "execute_result"
    }
   ],
   "source": [
    "df"
   ]
  },
  {
   "cell_type": "code",
   "execution_count": 8,
   "metadata": {},
   "outputs": [],
   "source": [
    "def split_data(stock, lookback, gapspace=0, test_set_size=120):\n",
    "    # data_raw = stock.to_numpy() # convert to numpy array\n",
    "    data_raw = stock\n",
    "    data = []\n",
    "    \n",
    "    # create all possible sequences of length seq_len\n",
    "    for index in range(len(data_raw) - lookback): \n",
    "        data.append(data_raw[index: index + lookback,:])\n",
    "    \n",
    "    data = np.array(data);\n",
    "\n",
    "    # test_set_size = int(np.round(0.2*data.shape[0]));\n",
    "    train_set_size = data.shape[0] - (test_set_size);\n",
    "    \n",
    "    x_train = data[:train_set_size,:-1-gapspace,:]\n",
    "    y_train = data[:train_set_size,-1,3:4]\n",
    "    x_test = data[train_set_size:,:-1-gapspace,:]\n",
    "    y_test = data[train_set_size:,-1,3:4]\n",
    "    \n",
    "    print('x_train.shape = ',x_train.shape)\n",
    "    print('y_train.shape = ',y_train.shape)\n",
    "    print('x_test.shape = ',x_test.shape)\n",
    "    print('y_test.shape = ',y_test.shape)\n",
    "    \n",
    "    x_train = torch.from_numpy(x_train).type(torch.Tensor)\n",
    "    y_train= torch.from_numpy(y_train).type(torch.Tensor)\n",
    "    x_test = torch.from_numpy(x_test).type(torch.Tensor)\n",
    "    y_test= torch.from_numpy(y_test).type(torch.Tensor)\n",
    "    \n",
    "    return x_train, y_train, x_test, y_test"
   ]
  },
  {
   "cell_type": "code",
   "execution_count": 9,
   "metadata": {},
   "outputs": [],
   "source": [
    "class LSTM(nn.Module):\n",
    "    def __init__(self, input_dim, hidden_dim, num_layers, output_dim):\n",
    "        super(LSTM, self).__init__()\n",
    "        self.hidden_dim = hidden_dim\n",
    "        self.num_layers = num_layers\n",
    "        \n",
    "        self.lstm = nn.LSTM(input_dim, hidden_dim, num_layers, batch_first=True)\n",
    "        self.fc = nn.Linear(hidden_dim, output_dim)\n",
    "    def forward(self, x):\n",
    "        h0 = torch.zeros(self.num_layers, x.size(0), self.hidden_dim).requires_grad_()\n",
    "        c0 = torch.zeros(self.num_layers, x.size(0), self.hidden_dim).requires_grad_()\n",
    "        out, (hn, cn) = self.lstm(x, (h0.detach(), c0.detach()))\n",
    "        out = self.fc(out[:, -1, :]) \n",
    "        return out"
   ]
  },
  {
   "cell_type": "code",
   "execution_count": 10,
   "metadata": {},
   "outputs": [],
   "source": [
    "class GRU(nn.Module):\n",
    "    def __init__(self, input_dim, hidden_dim, num_layers, output_dim):\n",
    "        super(GRU, self).__init__()\n",
    "        self.hidden_dim = hidden_dim\n",
    "        self.num_layers = num_layers\n",
    "        \n",
    "        self.gru = nn.GRU(input_dim, hidden_dim, num_layers, batch_first=True)\n",
    "        self.fc = nn.Linear(hidden_dim, output_dim)\n",
    "\n",
    "    def forward(self, x):\n",
    "        h0 = torch.zeros(self.num_layers, x.size(0), self.hidden_dim).requires_grad_()\n",
    "        out, (hn) = self.gru(x, (h0.detach()))\n",
    "        out = self.fc(out[:, -1, :]) \n",
    "        return out"
   ]
  },
  {
   "cell_type": "code",
   "execution_count": 19,
   "metadata": {},
   "outputs": [],
   "source": [
    "def LSTM_train_prediction(epochs, x_train, y_train, x_test):\n",
    "    \n",
    "    hist = np.zeros(epochs+1)\n",
    "\n",
    "    for i in range(epochs+1):\n",
    "        y_train_pred = modelL(x_train)\n",
    "        loss = criterion(y_train_pred, y_train)\n",
    "        if i%10 == 0:\n",
    "            print(\"Epoch \", i, \"MSE: \", loss.item())\n",
    "        hist[i] = loss.item()\n",
    "        optimiserL.zero_grad()\n",
    "        loss.backward()\n",
    "        optimiserL.step()\n",
    "\n",
    "    y_test_pred = modelL(x_test)\n",
    "    \n",
    "    return y_test_pred, hist"
   ]
  },
  {
   "cell_type": "code",
   "execution_count": 20,
   "metadata": {},
   "outputs": [],
   "source": [
    "def GRU_train_prediction(epochs, x_train, y_train, x_test):\n",
    "    \n",
    "    hist = np.zeros(epochs+1)\n",
    "\n",
    "    for i in range(epochs+1):\n",
    "        y_train_pred = modelG(x_train)\n",
    "        loss = criterion(y_train_pred, y_train)\n",
    "        if i%10 == 0:\n",
    "            print(\"Epoch \", i, \"MSE: \", loss.item())\n",
    "        hist[i] = loss.item()\n",
    "        optimiserG.zero_grad()\n",
    "        loss.backward()\n",
    "        optimiserG.step()\n",
    "\n",
    "    y_test_pred = modelG(x_test)\n",
    "    \n",
    "    return y_test_pred, hist"
   ]
  },
  {
   "cell_type": "markdown",
   "metadata": {},
   "source": [
    "### START"
   ]
  },
  {
   "cell_type": "code",
   "execution_count": 13,
   "metadata": {},
   "outputs": [],
   "source": [
    "scaler = MinMaxScaler()\n",
    "scaler_data = scaler.fit_transform(df.values)"
   ]
  },
  {
   "cell_type": "code",
   "execution_count": 14,
   "metadata": {},
   "outputs": [
    {
     "name": "stdout",
     "output_type": "stream",
     "text": [
      "x_train.shape =  (2368, 19, 183)\n",
      "y_train.shape =  (2368, 1)\n",
      "x_test.shape =  (120, 19, 183)\n",
      "y_test.shape =  (120, 1)\n"
     ]
    }
   ],
   "source": [
    "x_train, y_train, x_test, y_test = split_data(scaler_data, lookback=20, gapspace=0, test_set_size=120)"
   ]
  },
  {
   "cell_type": "code",
   "execution_count": 21,
   "metadata": {},
   "outputs": [],
   "source": [
    "modelL = LSTM(input_dim=183, hidden_dim=32, output_dim=1, num_layers=2)\n",
    "modelG = GRU(input_dim=183, hidden_dim=32, output_dim=1, num_layers=2)\n",
    "criterion = torch.nn.MSELoss(reduction='mean')\n",
    "optimiserL = torch.optim.Adam(modelL.parameters(), lr=0.01)\n",
    "optimiserG = torch.optim.Adam(modelG.parameters(), lr=0.01)"
   ]
  },
  {
   "cell_type": "code",
   "execution_count": 22,
   "metadata": {},
   "outputs": [
    {
     "name": "stdout",
     "output_type": "stream",
     "text": [
      "Epoch  0 MSE:  0.29913944005966187\n",
      "Epoch  10 MSE:  0.04396747425198555\n",
      "Epoch  20 MSE:  0.002660847967490554\n",
      "Epoch  30 MSE:  0.0031142374500632286\n",
      "Epoch  40 MSE:  0.0010034855222329497\n",
      "Epoch  50 MSE:  0.0009590431582182646\n",
      "Epoch  60 MSE:  0.0005990869249217212\n",
      "Epoch  70 MSE:  0.0005241677863523364\n",
      "Epoch  80 MSE:  0.0004512907180469483\n",
      "Epoch  90 MSE:  0.0003899892617482692\n",
      "Epoch  100 MSE:  0.00035244502942077816\n"
     ]
    }
   ],
   "source": [
    "y_test_pred, hist = LSTM_train_prediction(epochs=100, x_train=x_train, y_train=y_train, x_test=x_test)"
   ]
  },
  {
   "cell_type": "code",
   "execution_count": null,
   "metadata": {},
   "outputs": [],
   "source": []
  },
  {
   "cell_type": "code",
   "execution_count": 23,
   "metadata": {},
   "outputs": [
    {
     "data": {
      "image/png": "[encoded data removed]",
      "text/plain": [
       "<Figure size 1152x864 with 1 Axes>"
      ]
     },
     "metadata": {
      "needs_background": "light"
     },
     "output_type": "display_data"
    }
   ],
   "source": [
    "plt.figure(figsize=(16, 12))\n",
    "\n",
    "plt.plot(y_test, label='Historical data')\n",
    "plt.plot(y_test_pred.detach().numpy(), label='Prediction base on LSTM')\n",
    "plt.legend(fontsize='xx-large', loc='upper left')\n",
    "\n",
    "plt.show()"
   ]
  },
  {
   "cell_type": "code",
   "execution_count": null,
   "metadata": {},
   "outputs": [],
   "source": [
    "hist = np.zeros(num_epochs+1)\n",
    "\n",
    "for t in range(num_epochs+1):\n",
    "    y_train_pred = model(x_train)\n",
    "    loss = criterion(y_train_pred, y_train_lstm)\n",
    "    if t%10 == 0:\n",
    "        print(\"Epoch \", t, \"MSE: \", loss.item())\n",
    "    hist[t] = loss.item()\n",
    "    optimiser.zero_grad()\n",
    "    loss.backward()\n",
    "    optimiser.step()\n",
    "\n",
    "y_test_pred = model(x_test)"
   ]
  },
  {
   "cell_type": "code",
   "execution_count": null,
   "metadata": {
    "executionInfo": {
     "elapsed": 255,
     "status": "ok",
     "timestamp": 1626315754545,
     "user": {
      "displayName": "PMLDL TTBDSE19",
      "photoUrl": "",
      "userId": "11912906618479751888"
     },
     "user_tz": -480
    },
    "id": "vqB0uhzK1SpO"
   },
   "outputs": [],
   "source": [
    "def allprocessLSTM(df, lookback, input_dim, output_dim, num_epochs):\n",
    "\n",
    "  # plt.figure(figsize=(16, 12))\n",
    "  # plt.plot(df['Close'])\n",
    "  # plt.show()\n",
    "\n",
    "  scaler = MinMaxScaler()\n",
    "  scaler_data = scaler.fit_transform(df.values)\n",
    "\n",
    "  def split_data(stock, lookback):\n",
    "    # data_raw = stock.to_numpy() # convert to numpy array\n",
    "    data_raw = stock\n",
    "    data = []\n",
    "    \n",
    "    # create all possible sequences of length seq_len\n",
    "    for index in range(len(data_raw) - lookback): \n",
    "        data.append(data_raw[index: index + lookback,:])\n",
    "    \n",
    "    data = np.array(data);\n",
    "\n",
    "    # print(data)\n",
    "    # print(data.shape)\n",
    "\n",
    "    # test_set_size = int(np.round(0.2*data.shape[0]));\n",
    "    test_set_size = 120\n",
    "    train_set_size = data.shape[0] - (test_set_size);\n",
    "    \n",
    "    x_train = data[:train_set_size,:-1,:]\n",
    "    y_train = data[:train_set_size,-1,3:4]\n",
    "    \n",
    "    x_test = data[train_set_size:,:-1,:]\n",
    "    y_test = data[train_set_size:,-1,3:4]\n",
    "    \n",
    "    return [x_train, y_train, x_test, y_test]\n",
    "\n",
    "  x_train, y_train, x_test, y_test = split_data(scaler_data, lookback)\n",
    "\n",
    "  x_train = torch.from_numpy(x_train).type(torch.Tensor)\n",
    "  x_test = torch.from_numpy(x_test).type(torch.Tensor)\n",
    "  y_train_lstm = torch.from_numpy(y_train).type(torch.Tensor)\n",
    "  y_test_lstm = torch.from_numpy(y_test).type(torch.Tensor)\n",
    "  y_train_gru = torch.from_numpy(y_train).type(torch.Tensor)\n",
    "  y_test_gru = torch.from_numpy(y_test).type(torch.Tensor)\n",
    "\n",
    "  input_dim = input_dim\n",
    "  hidden_dim = 32\n",
    "  num_layers = 2\n",
    "  output_dim = output_dim\n",
    "  num_epochs = num_epochs\n",
    "\n",
    "  class LSTM(nn.Module):\n",
    "    def __init__(self, input_dim, hidden_dim, num_layers, output_dim):\n",
    "        super(LSTM, self).__init__()\n",
    "        self.hidden_dim = hidden_dim\n",
    "        self.num_layers = num_layers\n",
    "        \n",
    "        self.lstm = nn.LSTM(input_dim, hidden_dim, num_layers, batch_first=True)\n",
    "        self.fc = nn.Linear(hidden_dim, output_dim)\n",
    "    def forward(self, x):\n",
    "        h0 = torch.zeros(self.num_layers, x.size(0), self.hidden_dim).requires_grad_()\n",
    "        c0 = torch.zeros(self.num_layers, x.size(0), self.hidden_dim).requires_grad_()\n",
    "        out, (hn, cn) = self.lstm(x, (h0.detach(), c0.detach()))\n",
    "        out = self.fc(out[:, -1, :]) \n",
    "        return out\n",
    "\n",
    "  model = LSTM(input_dim=input_dim, hidden_dim=hidden_dim, output_dim=output_dim, num_layers=num_layers)\n",
    "  criterion = torch.nn.MSELoss(reduction='mean')\n",
    "  optimiser = torch.optim.Adam(model.parameters(), lr=0.01)\n",
    "\n",
    "  hist = np.zeros(num_epochs+1)\n",
    "  start_time = time.time()\n",
    "  lstm = []\n",
    "\n",
    "  for t in range(num_epochs+1):\n",
    "    y_train_pred = model(x_train)\n",
    "    loss = criterion(y_train_pred, y_train_lstm)\n",
    "    if t%10 == 0:\n",
    "      print(\"Epoch \", t, \"MSE: \", loss.item())\n",
    "    hist[t] = loss.item()\n",
    "    optimiser.zero_grad()\n",
    "    loss.backward()\n",
    "    optimiser.step()\n",
    "\n",
    "  training_time = time.time()-start_time\n",
    "  print(\"Training time: {}\".format(training_time))\n",
    "\n",
    "  y_test_pred = model(x_test)\n",
    "\n",
    "  return y_test_pred, y_test"
   ]
  },
  {
   "cell_type": "code",
   "execution_count": null,
   "metadata": {
    "id": "80XXe9G2IJkW"
   },
   "outputs": [],
   "source": [
    "def allprocessGRU(df, lookback, input_dim, output_dim, num_epochs):\n",
    "\n",
    "  # plt.figure(figsize=(16, 12))\n",
    "  # plt.plot(df['Close'])\n",
    "  # plt.show()\n",
    "\n",
    "  scaler = MinMaxScaler()\n",
    "  scaler_data = scaler.fit_transform(df.values)\n",
    "\n",
    "  def split_data(stock, lookback):\n",
    "    # data_raw = stock.to_numpy() # convert to numpy array\n",
    "    data_raw = stock\n",
    "    data = []\n",
    "    \n",
    "    # create all possible sequences of length seq_len\n",
    "    for index in range(len(data_raw) - lookback): \n",
    "        data.append(data_raw[index: index + lookback,:])\n",
    "    \n",
    "    data = np.array(data);\n",
    "\n",
    "    # print(data)\n",
    "    # print(data.shape)\n",
    "\n",
    "    # test_set_size = int(np.round(0.2*data.shape[0]));\n",
    "    test_set_size = 120\n",
    "    train_set_size = data.shape[0] - (test_set_size);\n",
    "    \n",
    "    x_train = data[:train_set_size,:-1,:]\n",
    "    y_train = data[:train_set_size,-1,3:4]\n",
    "    \n",
    "    x_test = data[train_set_size:,:-1,:]\n",
    "    y_test = data[train_set_size:,-1,3:4]\n",
    "    \n",
    "    return [x_train, y_train, x_test, y_test]\n",
    "\n",
    "  x_train, y_train, x_test, y_test = split_data(scaler_data, lookback)\n",
    "\n",
    "  x_train = torch.from_numpy(x_train).type(torch.Tensor)\n",
    "  x_test = torch.from_numpy(x_test).type(torch.Tensor)\n",
    "  y_train_lstm = torch.from_numpy(y_train).type(torch.Tensor)\n",
    "  y_test_lstm = torch.from_numpy(y_test).type(torch.Tensor)\n",
    "  y_train_gru = torch.from_numpy(y_train).type(torch.Tensor)\n",
    "  y_test_gru = torch.from_numpy(y_test).type(torch.Tensor)\n",
    "\n",
    "  input_dim = input_dim\n",
    "  hidden_dim = 32\n",
    "  num_layers = 2\n",
    "  output_dim = output_dim\n",
    "  num_epochs = num_epochs\n",
    "\n",
    "  class GRU(nn.Module):\n",
    "    def __init__(self, input_dim, hidden_dim, num_layers, output_dim):\n",
    "        super(GRU, self).__init__()\n",
    "        self.hidden_dim = hidden_dim\n",
    "        self.num_layers = num_layers\n",
    "        \n",
    "        self.gru = nn.GRU(input_dim, hidden_dim, num_layers, batch_first=True)\n",
    "        self.fc = nn.Linear(hidden_dim, output_dim)\n",
    "\n",
    "    def forward(self, x):\n",
    "        h0 = torch.zeros(self.num_layers, x.size(0), self.hidden_dim).requires_grad_()\n",
    "        out, (hn) = self.gru(x, (h0.detach()))\n",
    "        out = self.fc(out[:, -1, :]) \n",
    "        return out\n",
    "\n",
    "  model = GRU(input_dim=input_dim, hidden_dim=hidden_dim, output_dim=output_dim, num_layers=num_layers)\n",
    "  criterion = torch.nn.MSELoss(reduction='mean')\n",
    "  optimiser = torch.optim.Adam(model.parameters(), lr=0.01)     \n",
    "\n",
    "  hist = np.zeros(num_epochs+1)\n",
    "  start_time = time.time()\n",
    "  gru = []\n",
    "\n",
    "  for t in range(num_epochs+1):\n",
    "    y_train_pred = model(x_train)\n",
    "    loss = criterion(y_train_pred, y_train_gru)\n",
    "    if t%10 == 0:\n",
    "      print(\"Epoch \", t, \"MSE: \", loss.item())\n",
    "    hist[t] = loss.item()\n",
    "    optimiser.zero_grad()\n",
    "    loss.backward()\n",
    "    optimiser.step()\n",
    "\n",
    "  training_time = time.time()-start_time\n",
    "  print(\"Training time: {}\".format(training_time))\n",
    "\n",
    "  y_test_pred = model(x_test)\n",
    "\n",
    "  return y_test_pred, y_test"
   ]
  },
  {
   "cell_type": "code",
   "execution_count": null,
   "metadata": {
    "colab": {
     "base_uri": "https://localhost:8080/"
    },
    "executionInfo": {
     "elapsed": 37410,
     "status": "ok",
     "timestamp": 1626316029766,
     "user": {
      "displayName": "PMLDL TTBDSE19",
      "photoUrl": "",
      "userId": "11912906618479751888"
     },
     "user_tz": -480
    },
    "id": "rzogmzECMOk6",
    "outputId": "55c0903f-336f-40c7-b06e-845fd2c84b58"
   },
   "outputs": [],
   "source": [
    "y_pred_base10y_LSTM, y_test = op.allprocessLSTM(df, 20, 183, 1, 100)\n",
    "# y_pred_base10y_GRU, y_test = allprocessGRU(df, 20, 5, 1, 500)"
   ]
  },
  {
   "cell_type": "code",
   "execution_count": null,
   "metadata": {
    "colab": {
     "base_uri": "https://localhost:8080/",
     "height": 700
    },
    "executionInfo": {
     "elapsed": 1134,
     "status": "ok",
     "timestamp": 1626316051936,
     "user": {
      "displayName": "PMLDL TTBDSE19",
      "photoUrl": "",
      "userId": "11912906618479751888"
     },
     "user_tz": -480
    },
    "id": "ZIAvtCpb_XSp",
    "outputId": "5abc60cc-d610-42f6-f24b-17b30ac996df"
   },
   "outputs": [],
   "source": [
    "plt.figure(figsize=(16, 12))\n",
    "\n",
    "plt.plot(y_test, label='Historical data')\n",
    "plt.plot(y_pred_base10y_LSTM.detach().numpy(), label='Prediction base on LSTM')\n",
    "plt.legend(fontsize='xx-large', loc='upper left')\n",
    "\n",
    "plt.show()"
   ]
  },
  {
   "cell_type": "code",
   "execution_count": null,
   "metadata": {
    "colab": {
     "base_uri": "https://localhost:8080/",
     "height": 700
    },
    "executionInfo": {
     "elapsed": 1122,
     "status": "ok",
     "timestamp": 1625849404143,
     "user": {
      "displayName": "PMLDL TTBDSE19",
      "photoUrl": "",
      "userId": "11912906618479751888"
     },
     "user_tz": -480
    },
    "id": "6zY6st-0KfGp",
    "outputId": "ac471f42-e121-45cd-912a-1f2b15824849"
   },
   "outputs": [],
   "source": [
    "plt.figure(figsize=(16, 12))\n",
    "\n",
    "plt.plot(y_test, label='Historical data')\n",
    "plt.plot(y_pred_base10y_LSTM.detach().numpy(), label='Prediction base on LSTM')\n",
    "plt.plot(y_pred_base10y_GRU.detach().numpy(), label='Prediction base on GRU')\n",
    "plt.legend(fontsize='xx-large', loc='upper left')\n",
    "\n",
    "plt.show()"
   ]
  },
  {
   "cell_type": "code",
   "execution_count": null,
   "metadata": {
    "id": "y-LTV40tVrgQ"
   },
   "outputs": [],
   "source": [
    "df2y = dft[dft['Date'].between('2019-06-30', '2021-06-30')]"
   ]
  },
  {
   "cell_type": "code",
   "execution_count": null,
   "metadata": {
    "id": "GgSQwiJ0XSiJ"
   },
   "outputs": [],
   "source": [
    "df2y = df2y.drop(['Date', 'Dividends', 'Stock Splits'], axis = 1)"
   ]
  },
  {
   "cell_type": "code",
   "execution_count": null,
   "metadata": {
    "colab": {
     "base_uri": "https://localhost:8080/"
    },
    "executionInfo": {
     "elapsed": 24603,
     "status": "ok",
     "timestamp": 1625849524807,
     "user": {
      "displayName": "PMLDL TTBDSE19",
      "photoUrl": "",
      "userId": "11912906618479751888"
     },
     "user_tz": -480
    },
    "id": "iikexPvhW6PX",
    "outputId": "57d83583-296a-4d56-baf4-87eb5a2ccbaf"
   },
   "outputs": [],
   "source": [
    "y_pred_base2y_LSTM, y_test = allprocessLSTM(df2y, 20, 5, 1, 500)\n",
    "y_pred_base2y_GRU, y_test = allprocessGRU(df2y, 20, 5, 1, 500)"
   ]
  },
  {
   "cell_type": "code",
   "execution_count": null,
   "metadata": {
    "colab": {
     "base_uri": "https://localhost:8080/",
     "height": 700
    },
    "executionInfo": {
     "elapsed": 1121,
     "status": "ok",
     "timestamp": 1625849740382,
     "user": {
      "displayName": "PMLDL TTBDSE19",
      "photoUrl": "",
      "userId": "11912906618479751888"
     },
     "user_tz": -480
    },
    "id": "bQ4jA5jIOO8H",
    "outputId": "944706c7-41df-410a-ad04-3c89ba35ccf3"
   },
   "outputs": [],
   "source": [
    "plt.figure(figsize=(16, 12))\n",
    "\n",
    "plt.plot(y_test, label='Historical data')\n",
    "plt.plot(y_pred_base10y_LSTM.detach().numpy(), label='Prediction base on 10y&LSTM')\n",
    "plt.plot(y_pred_base10y_GRU.detach().numpy(), label='Prediction base on 10y&GRU')\n",
    "plt.plot(y_pred_base2y_LSTM.detach().numpy(), label='Prediction base on 2y&LSTM')\n",
    "plt.plot(y_pred_base2y_GRU.detach().numpy(), label='Prediction base on 2y&GRU')\n",
    "plt.legend(fontsize='xx-large', loc='upper left')\n",
    "\n",
    "plt.show()"
   ]
  },
  {
   "cell_type": "code",
   "execution_count": null,
   "metadata": {
    "colab": {
     "base_uri": "https://localhost:8080/",
     "height": 1000
    },
    "executionInfo": {
     "elapsed": 554943,
     "status": "ok",
     "timestamp": 1625816134953,
     "user": {
      "displayName": "PMLDL TTBDSE19",
      "photoUrl": "",
      "userId": "11912906618479751888"
     },
     "user_tz": -480
    },
    "id": "OXg8VuN1YJI-",
    "outputId": "2f36875c-c137-47c9-ed67-e179551bda33"
   },
   "outputs": [],
   "source": [
    "lookbacks = [3, 5, 10 , 20, 60]\n",
    "\n",
    "plt.figure(figsize=(16, 12))\n",
    "\n",
    "for lookback in lookbacks:\n",
    "\n",
    "  print(f'Training for lookback : {lookback} ')\n",
    "  y_pred, y_test = allprocess(df, lookback, 5, 1, 500)\n",
    "  plt.plot(y_pred.detach().numpy(), label=f'Prediction for lookback : {lookback}')\n",
    "  print('-'*80)\n",
    "\n",
    "plt.plot(y_test, label='Historical data')\n",
    "plt.legend(fontsize='xx-large', loc='upper left')\n",
    "plt.show()"
   ]
  },
  {
   "cell_type": "code",
   "execution_count": null,
   "metadata": {
    "colab": {
     "base_uri": "https://localhost:8080/"
    },
    "executionInfo": {
     "elapsed": 397,
     "status": "ok",
     "timestamp": 1625763400816,
     "user": {
      "displayName": "PMLDL TTBDSE19",
      "photoUrl": "",
      "userId": "11912906618479751888"
     },
     "user_tz": -480
    },
    "id": "rcOrWCBVgSRN",
    "outputId": "73048847-065e-4e73-dcee-1634bef1dc30"
   },
   "outputs": [],
   "source": [
    "scaler = MinMaxScaler()\n",
    "scaler_data = scaler.fit_transform(df.values)\n",
    "scaler_data"
   ]
  },
  {
   "cell_type": "code",
   "execution_count": null,
   "metadata": {
    "id": "P-Tw-DithkJx"
   },
   "outputs": [],
   "source": [
    "def split_data(stock, lookback):\n",
    "    # data_raw = stock.to_numpy() # convert to numpy array\n",
    "    data_raw = stock\n",
    "    data = []\n",
    "    \n",
    "    # create all possible sequences of length seq_len\n",
    "    for index in range(len(data_raw) - lookback): \n",
    "        data.append(data_raw[index: index + lookback,:])\n",
    "    \n",
    "    data = np.array(data);\n",
    "\n",
    "    # print(data)\n",
    "    # print(data.shape)\n",
    "\n",
    "    test_set_size = int(np.round(0.2*data.shape[0]));\n",
    "    train_set_size = data.shape[0] - (test_set_size);\n",
    "    \n",
    "    x_train = data[:train_set_size,:-1,:]\n",
    "    y_train = data[:train_set_size,-1,3:4]\n",
    "    \n",
    "    x_test = data[train_set_size:,:-1,:]\n",
    "    y_test = data[train_set_size:,-1,3:4]\n",
    "    \n",
    "    return [x_train, y_train, x_test, y_test]\n",
    "\n",
    "\n",
    "lookback = 10 # choose sequence length\n",
    "x_train, y_train, x_test, y_test = split_data(scaler_data, lookback)"
   ]
  },
  {
   "cell_type": "code",
   "execution_count": null,
   "metadata": {
    "colab": {
     "base_uri": "https://localhost:8080/"
    },
    "executionInfo": {
     "elapsed": 311,
     "status": "ok",
     "timestamp": 1625765100160,
     "user": {
      "displayName": "PMLDL TTBDSE19",
      "photoUrl": "",
      "userId": "11912906618479751888"
     },
     "user_tz": -480
    },
    "id": "Sf1wv1yrhvKf",
    "outputId": "2452856b-97cc-42f2-b260-25314d299053"
   },
   "outputs": [],
   "source": [
    "x_train.shape"
   ]
  },
  {
   "cell_type": "code",
   "execution_count": null,
   "metadata": {
    "colab": {
     "base_uri": "https://localhost:8080/"
    },
    "executionInfo": {
     "elapsed": 316,
     "status": "ok",
     "timestamp": 1625765102169,
     "user": {
      "displayName": "PMLDL TTBDSE19",
      "photoUrl": "",
      "userId": "11912906618479751888"
     },
     "user_tz": -480
    },
    "id": "EfYgprNliyup",
    "outputId": "bd79ff7d-8902-42d2-e2b8-40b9bf92a639"
   },
   "outputs": [],
   "source": [
    "x_test.shape"
   ]
  },
  {
   "cell_type": "code",
   "execution_count": null,
   "metadata": {
    "colab": {
     "base_uri": "https://localhost:8080/"
    },
    "executionInfo": {
     "elapsed": 402,
     "status": "ok",
     "timestamp": 1625765104035,
     "user": {
      "displayName": "PMLDL TTBDSE19",
      "photoUrl": "",
      "userId": "11912906618479751888"
     },
     "user_tz": -480
    },
    "id": "-iQgkOrZjBAu",
    "outputId": "a31e2a55-761f-492e-d5a4-6635e61ecf7e"
   },
   "outputs": [],
   "source": [
    "y_train.shape"
   ]
  },
  {
   "cell_type": "code",
   "execution_count": null,
   "metadata": {
    "colab": {
     "base_uri": "https://localhost:8080/"
    },
    "executionInfo": {
     "elapsed": 326,
     "status": "ok",
     "timestamp": 1625765109326,
     "user": {
      "displayName": "PMLDL TTBDSE19",
      "photoUrl": "",
      "userId": "11912906618479751888"
     },
     "user_tz": -480
    },
    "id": "kGH7FnB4jBKS",
    "outputId": "612d8764-3c17-43a8-fc47-3193ca5db526"
   },
   "outputs": [],
   "source": [
    "y_test.shape"
   ]
  },
  {
   "cell_type": "code",
   "execution_count": null,
   "metadata": {
    "id": "lyfR4cCGkIZY"
   },
   "outputs": [],
   "source": [
    "import torch\n",
    "import torch.nn as nn\n",
    "x_train = torch.from_numpy(x_train).type(torch.Tensor)\n",
    "x_test = torch.from_numpy(x_test).type(torch.Tensor)\n",
    "y_train_lstm = torch.from_numpy(y_train).type(torch.Tensor)\n",
    "y_test_lstm = torch.from_numpy(y_test).type(torch.Tensor)\n",
    "y_train_gru = torch.from_numpy(y_train).type(torch.Tensor)\n",
    "y_test_gru = torch.from_numpy(y_test).type(torch.Tensor)"
   ]
  },
  {
   "cell_type": "code",
   "execution_count": null,
   "metadata": {
    "id": "n2m6-DJ1pnQS"
   },
   "outputs": [],
   "source": [
    "input_dim = 5\n",
    "hidden_dim = 32\n",
    "num_layers = 2\n",
    "output_dim = 1\n",
    "num_epochs = 100"
   ]
  },
  {
   "cell_type": "code",
   "execution_count": null,
   "metadata": {
    "id": "lPq5gHUaprgN"
   },
   "outputs": [],
   "source": [
    "class LSTM(nn.Module):\n",
    "    def __init__(self, input_dim, hidden_dim, num_layers, output_dim):\n",
    "        super(LSTM, self).__init__()\n",
    "        self.hidden_dim = hidden_dim\n",
    "        self.num_layers = num_layers\n",
    "        \n",
    "        self.lstm = nn.LSTM(input_dim, hidden_dim, num_layers, batch_first=True)\n",
    "        self.fc = nn.Linear(hidden_dim, output_dim)\n",
    "    def forward(self, x):\n",
    "        h0 = torch.zeros(self.num_layers, x.size(0), self.hidden_dim).requires_grad_()\n",
    "        c0 = torch.zeros(self.num_layers, x.size(0), self.hidden_dim).requires_grad_()\n",
    "        out, (hn, cn) = self.lstm(x, (h0.detach(), c0.detach()))\n",
    "        out = self.fc(out[:, -1, :]) \n",
    "        return out"
   ]
  },
  {
   "cell_type": "code",
   "execution_count": null,
   "metadata": {
    "id": "AA5xz3pBpug0"
   },
   "outputs": [],
   "source": [
    "model = LSTM(input_dim=input_dim, hidden_dim=hidden_dim, output_dim=output_dim, num_layers=num_layers)\n",
    "criterion = torch.nn.MSELoss(reduction='mean')\n",
    "optimiser = torch.optim.Adam(model.parameters(), lr=0.01)"
   ]
  },
  {
   "cell_type": "code",
   "execution_count": null,
   "metadata": {
    "colab": {
     "base_uri": "https://localhost:8080/"
    },
    "executionInfo": {
     "elapsed": 11922,
     "status": "ok",
     "timestamp": 1625765137607,
     "user": {
      "displayName": "PMLDL TTBDSE19",
      "photoUrl": "",
      "userId": "11912906618479751888"
     },
     "user_tz": -480
    },
    "id": "ruvuffrQpxSs",
    "outputId": "a3ec8fbe-99de-4dea-f6ea-65b2ff517c26"
   },
   "outputs": [],
   "source": [
    "import time\n",
    "hist = np.zeros(num_epochs)\n",
    "start_time = time.time()\n",
    "lstm = []\n",
    "for t in range(num_epochs):\n",
    "    y_train_pred = model(x_train)\n",
    "    loss = criterion(y_train_pred, y_train_lstm)\n",
    "    print(\"Epoch \", t, \"MSE: \", loss.item())\n",
    "    hist[t] = loss.item()\n",
    "    optimiser.zero_grad()\n",
    "    loss.backward()\n",
    "    optimiser.step()\n",
    "    \n",
    "training_time = time.time()-start_time\n",
    "print(\"Training time: {}\".format(training_time))"
   ]
  },
  {
   "cell_type": "code",
   "execution_count": null,
   "metadata": {
    "id": "mS_06Bn7q9w-"
   },
   "outputs": [],
   "source": [
    "y_test_pred = model(x_test)"
   ]
  },
  {
   "cell_type": "code",
   "execution_count": null,
   "metadata": {
    "colab": {
     "base_uri": "https://localhost:8080/"
    },
    "executionInfo": {
     "elapsed": 461,
     "status": "ok",
     "timestamp": 1625765160886,
     "user": {
      "displayName": "PMLDL TTBDSE19",
      "photoUrl": "",
      "userId": "11912906618479751888"
     },
     "user_tz": -480
    },
    "id": "FFwv4AKVGk-C",
    "outputId": "a533e7cb-c796-4cb3-a4fa-f41095f7e0ae"
   },
   "outputs": [],
   "source": [
    "len(y_test_pred)"
   ]
  },
  {
   "cell_type": "code",
   "execution_count": null,
   "metadata": {
    "colab": {
     "base_uri": "https://localhost:8080/",
     "height": 700
    },
    "executionInfo": {
     "elapsed": 880,
     "status": "ok",
     "timestamp": 1625765208210,
     "user": {
      "displayName": "PMLDL TTBDSE19",
      "photoUrl": "",
      "userId": "11912906618479751888"
     },
     "user_tz": -480
    },
    "id": "sxnaeW7-FmEh",
    "outputId": "27a79cdc-d053-4b43-92ab-2c721b985907"
   },
   "outputs": [],
   "source": [
    "plt.figure(figsize=(16, 12))\n",
    "\n",
    "plt.plot(y_test_lstm.detach().numpy())\n",
    "plt.plot(y_test_pred.detach().numpy())\n",
    "plt.leg\n",
    "\n",
    "plt.show()"
   ]
  },
  {
   "cell_type": "code",
   "execution_count": null,
   "metadata": {
    "colab": {
     "base_uri": "https://localhost:8080/"
    },
    "executionInfo": {
     "elapsed": 262,
     "status": "ok",
     "timestamp": 1625471869962,
     "user": {
      "displayName": "PMLDL TTBDSE19",
      "photoUrl": "",
      "userId": "11912906618479751888"
     },
     "user_tz": -480
    },
    "id": "VQe0EBASrDlq",
    "outputId": "9c321e0d-8380-4376-8b66-202343dfb105"
   },
   "outputs": [],
   "source": [
    "y_train_lstm"
   ]
  }
 ],
 "metadata": {
  "colab": {
   "authorship_tag": "ABX9TyMBun9wjjxWf1PDAILJBx5e",
   "collapsed_sections": [],
   "name": "LSTM 200 Try.ipynb",
   "provenance": []
  },
  "kernelspec": {
   "display_name": "Python 3",
   "language": "python",
   "name": "python3"
  },
  "language_info": {
   "codemirror_mode": {
    "name": "ipython",
    "version": 3
   },
   "file_extension": ".py",
   "mimetype": "text/x-python",
   "name": "python",
   "nbconvert_exporter": "python",
   "pygments_lexer": "ipython3",
   "version": "3.8.5"
  }
 },
 "nbformat": 4,
 "nbformat_minor": 1
}
