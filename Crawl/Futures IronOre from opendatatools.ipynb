{
 "cells": [
  {
   "cell_type": "code",
   "execution_count": 1,
   "metadata": {},
   "outputs": [],
   "source": [
    "# 匯入套件\n",
    "from opendatatools import futures"
   ]
  },
  {
   "cell_type": "code",
   "execution_count": 2,
   "metadata": {},
   "outputs": [],
   "source": [
    "# 叫出鐵礦石報價\n",
    "df, msg = futures.get_kline('1d','I0')"
   ]
  },
  {
   "cell_type": "code",
   "execution_count": 5,
   "metadata": {
    "scrolled": true
   },
   "outputs": [
    {
     "data": {
      "text/html": [
       "<div>\n",
       "<style scoped>\n",
       "    .dataframe tbody tr th:only-of-type {\n",
       "        vertical-align: middle;\n",
       "    }\n",
       "\n",
       "    .dataframe tbody tr th {\n",
       "        vertical-align: top;\n",
       "    }\n",
       "\n",
       "    .dataframe thead th {\n",
       "        text-align: right;\n",
       "    }\n",
       "</style>\n",
       "<table border=\"1\" class=\"dataframe\">\n",
       "  <thead>\n",
       "    <tr style=\"text-align: right;\">\n",
       "      <th></th>\n",
       "      <th>datetime</th>\n",
       "      <th>open</th>\n",
       "      <th>high</th>\n",
       "      <th>low</th>\n",
       "      <th>close</th>\n",
       "      <th>volume</th>\n",
       "    </tr>\n",
       "  </thead>\n",
       "  <tbody>\n",
       "    <tr>\n",
       "      <th>0</th>\n",
       "      <td>2013-10-18</td>\n",
       "      <td>978.000</td>\n",
       "      <td>984.000</td>\n",
       "      <td>962.000</td>\n",
       "      <td>977.000</td>\n",
       "      <td>300818</td>\n",
       "    </tr>\n",
       "    <tr>\n",
       "      <th>1</th>\n",
       "      <td>2013-10-21</td>\n",
       "      <td>976.000</td>\n",
       "      <td>977.000</td>\n",
       "      <td>960.000</td>\n",
       "      <td>969.000</td>\n",
       "      <td>95432</td>\n",
       "    </tr>\n",
       "    <tr>\n",
       "      <th>2</th>\n",
       "      <td>2013-10-22</td>\n",
       "      <td>963.000</td>\n",
       "      <td>966.000</td>\n",
       "      <td>948.000</td>\n",
       "      <td>948.000</td>\n",
       "      <td>91296</td>\n",
       "    </tr>\n",
       "    <tr>\n",
       "      <th>3</th>\n",
       "      <td>2013-10-23</td>\n",
       "      <td>949.000</td>\n",
       "      <td>953.000</td>\n",
       "      <td>936.000</td>\n",
       "      <td>939.000</td>\n",
       "      <td>116490</td>\n",
       "    </tr>\n",
       "    <tr>\n",
       "      <th>4</th>\n",
       "      <td>2013-10-24</td>\n",
       "      <td>938.000</td>\n",
       "      <td>939.000</td>\n",
       "      <td>916.000</td>\n",
       "      <td>926.000</td>\n",
       "      <td>169028</td>\n",
       "    </tr>\n",
       "    <tr>\n",
       "      <th>...</th>\n",
       "      <td>...</td>\n",
       "      <td>...</td>\n",
       "      <td>...</td>\n",
       "      <td>...</td>\n",
       "      <td>...</td>\n",
       "      <td>...</td>\n",
       "    </tr>\n",
       "    <tr>\n",
       "      <th>1874</th>\n",
       "      <td>2021-06-24</td>\n",
       "      <td>1179.000</td>\n",
       "      <td>1194.000</td>\n",
       "      <td>1141.000</td>\n",
       "      <td>1164.500</td>\n",
       "      <td>416019</td>\n",
       "    </tr>\n",
       "    <tr>\n",
       "      <th>1875</th>\n",
       "      <td>2021-06-25</td>\n",
       "      <td>1160.000</td>\n",
       "      <td>1190.000</td>\n",
       "      <td>1148.500</td>\n",
       "      <td>1185.000</td>\n",
       "      <td>374808</td>\n",
       "    </tr>\n",
       "    <tr>\n",
       "      <th>1876</th>\n",
       "      <td>2021-06-28</td>\n",
       "      <td>1190.000</td>\n",
       "      <td>1209.500</td>\n",
       "      <td>1157.500</td>\n",
       "      <td>1196.000</td>\n",
       "      <td>412401</td>\n",
       "    </tr>\n",
       "    <tr>\n",
       "      <th>1877</th>\n",
       "      <td>2021-06-29</td>\n",
       "      <td>1199.500</td>\n",
       "      <td>1200.500</td>\n",
       "      <td>1144.000</td>\n",
       "      <td>1153.000</td>\n",
       "      <td>399660</td>\n",
       "    </tr>\n",
       "    <tr>\n",
       "      <th>1878</th>\n",
       "      <td>2021-06-30</td>\n",
       "      <td>1150.000</td>\n",
       "      <td>1171.500</td>\n",
       "      <td>1135.000</td>\n",
       "      <td>1165.000</td>\n",
       "      <td>407096</td>\n",
       "    </tr>\n",
       "  </tbody>\n",
       "</table>\n",
       "<p>1879 rows × 6 columns</p>\n",
       "</div>"
      ],
      "text/plain": [
       "        datetime      open      high       low     close  volume\n",
       "0     2013-10-18   978.000   984.000   962.000   977.000  300818\n",
       "1     2013-10-21   976.000   977.000   960.000   969.000   95432\n",
       "2     2013-10-22   963.000   966.000   948.000   948.000   91296\n",
       "3     2013-10-23   949.000   953.000   936.000   939.000  116490\n",
       "4     2013-10-24   938.000   939.000   916.000   926.000  169028\n",
       "...          ...       ...       ...       ...       ...     ...\n",
       "1874  2021-06-24  1179.000  1194.000  1141.000  1164.500  416019\n",
       "1875  2021-06-25  1160.000  1190.000  1148.500  1185.000  374808\n",
       "1876  2021-06-28  1190.000  1209.500  1157.500  1196.000  412401\n",
       "1877  2021-06-29  1199.500  1200.500  1144.000  1153.000  399660\n",
       "1878  2021-06-30  1150.000  1171.500  1135.000  1165.000  407096\n",
       "\n",
       "[1879 rows x 6 columns]"
      ]
     },
     "execution_count": 5,
     "metadata": {},
     "output_type": "execute_result"
    }
   ],
   "source": [
    "df = df.iloc[:1879, :]\n",
    "df"
   ]
  },
  {
   "cell_type": "code",
   "execution_count": 6,
   "metadata": {},
   "outputs": [
    {
     "name": "stdout",
     "output_type": "stream",
     "text": [
      "Done !\n"
     ]
    }
   ],
   "source": [
    "# 存檔\n",
    "df.to_csv('data/Futures_DalianIronOre.csv', index_label=False)\n",
    "print('Done !')"
   ]
  },
  {
   "cell_type": "code",
   "execution_count": null,
   "metadata": {},
   "outputs": [],
   "source": []
  }
 ],
 "metadata": {
  "kernelspec": {
   "display_name": "Python 3",
   "language": "python",
   "name": "python3"
  },
  "language_info": {
   "codemirror_mode": {
    "name": "ipython",
    "version": 3
   },
   "file_extension": ".py",
   "mimetype": "text/x-python",
   "name": "python",
   "nbconvert_exporter": "python",
   "pygments_lexer": "ipython3",
   "version": "3.8.5"
  }
 },
 "nbformat": 4,
 "nbformat_minor": 4
}
