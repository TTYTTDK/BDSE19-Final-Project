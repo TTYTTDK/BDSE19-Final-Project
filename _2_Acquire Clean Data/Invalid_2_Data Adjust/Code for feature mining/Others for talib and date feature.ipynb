{
 "cells": [
  {
   "cell_type": "markdown",
   "id": "886aea2c",
   "metadata": {},
   "source": [
    "### 航運指數日期調整"
   ]
  },
  {
   "cell_type": "code",
   "execution_count": 1,
   "id": "606f55f5",
   "metadata": {},
   "outputs": [],
   "source": [
    "# 套件匯入\n",
    "import pandas as pd\n",
    "import numpy as np\n",
    "import os\n",
    "import re\n",
    "\n",
    "import talib\n",
    "from talib import abstract"
   ]
  },
  {
   "cell_type": "code",
   "execution_count": 2,
   "id": "f99c557f",
   "metadata": {},
   "outputs": [
    {
     "data": {
      "text/plain": [
       "['DateAdj_ShippingIndex_BCI.csv',\n",
       " 'DateAdj_ShippingIndex_BCTI.csv',\n",
       " 'DateAdj_ShippingIndex_BDI.csv',\n",
       " 'DateAdj_ShippingIndex_BDTI.csv',\n",
       " 'DateAdj_ShippingIndex_BPI.csv',\n",
       " 'DateAdj_ShippingIndex_BSI.csv']"
      ]
     },
     "execution_count": 2,
     "metadata": {},
     "output_type": "execute_result"
    }
   ],
   "source": [
    "# 列出所有 ShippingIndex 檔案名稱\n",
    "filenames = [f for f in os.listdir('../Try data mining/data/') if re.search('^DateAdj_S', f)]\n",
    "filenames"
   ]
  },
  {
   "cell_type": "code",
   "execution_count": 3,
   "id": "e2a44795",
   "metadata": {},
   "outputs": [
    {
     "name": "stdout",
     "output_type": "stream",
     "text": [
      "The shape of AF_ShippingIndex_NA_BCI.csv:\n",
      "(2566, 2)\n",
      "Save file :　AF_ShippingIndex_NA_BCI.csv\n",
      "----------------------------------------------------------------------------------------------------\n",
      "The shape of AF_ShippingIndex_NA_BCTI.csv:\n",
      "(2566, 2)\n",
      "Save file :　AF_ShippingIndex_NA_BCTI.csv\n",
      "----------------------------------------------------------------------------------------------------\n",
      "The shape of AF_ShippingIndex_NA_BDI.csv:\n",
      "(2566, 2)\n",
      "Save file :　AF_ShippingIndex_NA_BDI.csv\n",
      "----------------------------------------------------------------------------------------------------\n",
      "The shape of AF_ShippingIndex_NA_BDTI.csv:\n",
      "(2566, 2)\n",
      "Save file :　AF_ShippingIndex_NA_BDTI.csv\n",
      "----------------------------------------------------------------------------------------------------\n",
      "The shape of AF_ShippingIndex_NA_BPI.csv:\n",
      "(2566, 2)\n",
      "Save file :　AF_ShippingIndex_NA_BPI.csv\n",
      "----------------------------------------------------------------------------------------------------\n",
      "The shape of AF_ShippingIndex_NA_BSI.csv:\n",
      "(2566, 2)\n",
      "Save file :　AF_ShippingIndex_NA_BSI.csv\n",
      "----------------------------------------------------------------------------------------------------\n"
     ]
    }
   ],
   "source": [
    "for filename in filenames:\n",
    "    \n",
    "    # 讀檔案\n",
    "    df = pd.read_csv(f'../Try data mining/data/{filename}', index_col=0)\n",
    "    \n",
    "    # 日期改至 2011-01-01 開始\n",
    "    df = df[df['Date'].between('2011-01-01', '2021-06-30')]\n",
    "    \n",
    "    splitfilename = filename.split('_')\n",
    "    print(f'The shape of AF_{splitfilename[1]}_NA_{splitfilename[2]}:')\n",
    "    print(df.shape)\n",
    "    \n",
    "     # 存檔\n",
    "    df.to_csv(f'afdata/AF_{splitfilename[1]}_NA_{splitfilename[2]}')\n",
    "    print(f'Save file :　AF_{splitfilename[1]}_NA_{splitfilename[2]}')\n",
    "    print('-'*100)"
   ]
  },
  {
   "cell_type": "markdown",
   "id": "54e90dae",
   "metadata": {},
   "source": [
    "### 外匯日期調整"
   ]
  },
  {
   "cell_type": "code",
   "execution_count": 4,
   "id": "d41719c5",
   "metadata": {},
   "outputs": [
    {
     "name": "stdout",
     "output_type": "stream",
     "text": [
      "The shape of AF_ExchangeRate_NA_NTD2USD.csv:\n",
      "(2566, 2)\n",
      "Save file :　AF_ExchangeRate_NA_NTD2USD.csv\n",
      "----------------------------------------------------------------------------------------------------\n"
     ]
    }
   ],
   "source": [
    "# 讀檔案\n",
    "df = pd.read_csv(f'../Try data mining/data/DateAdj_ExchangeRate_NTD2USD.csv', index_col=0)\n",
    "    \n",
    "# 日期改至 2011-01-01 開始\n",
    "df = df[df['Date'].between('2011-01-01', '2021-06-30')]\n",
    "\n",
    "print(f'The shape of AF_ExchangeRate_NA_NTD2USD.csv:')\n",
    "print(df.shape)\n",
    "    \n",
    "# 存檔\n",
    "df.to_csv(f'afdata/AF_ExchangeRate_NA_NTD2USD.csv')\n",
    "print(f'Save file :　AF_ExchangeRate_NA_NTD2USD.csv')\n",
    "print('-'*100)"
   ]
  },
  {
   "cell_type": "markdown",
   "id": "6700d977",
   "metadata": {},
   "source": [
    "### 期貨報價調整"
   ]
  },
  {
   "cell_type": "code",
   "execution_count": 5,
   "id": "1984b3ae",
   "metadata": {
    "scrolled": true
   },
   "outputs": [
    {
     "data": {
      "text/plain": [
       "['DateAdj_Futures_Brent Oil.csv',\n",
       " 'DateAdj_Futures_Crude Oil.csv',\n",
       " 'DateAdj_Futures_DalianIronOre.csv',\n",
       " 'DateAdj_Futures_Gold.csv']"
      ]
     },
     "execution_count": 5,
     "metadata": {},
     "output_type": "execute_result"
    }
   ],
   "source": [
    "# 列出所有 Futures 檔案名稱\n",
    "filenames = [f for f in os.listdir('../Try data mining/data/') if re.search('^DateAdj_F', f)]\n",
    "filenames"
   ]
  },
  {
   "cell_type": "code",
   "execution_count": 6,
   "id": "d6ae3e9e",
   "metadata": {},
   "outputs": [],
   "source": [
    "# 乖離率\n",
    "def BIAS(close, timeperiod=20):\n",
    "    if isinstance(close,np.ndarray):\n",
    "        pass\n",
    "    else:\n",
    "        close = np.array(close)\n",
    "    MA = talib.MA(close,timeperiod=timeperiod)\n",
    "    return (close-MA)/MA"
   ]
  },
  {
   "cell_type": "code",
   "execution_count": 7,
   "id": "8ab36080",
   "metadata": {},
   "outputs": [],
   "source": [
    "# 移動平均平行線差指標\n",
    "# def AMA(stockStat):\n",
    "#     return talib.MA(stockStat['dma'],  timeperiod=10)\n",
    "\n",
    "# https://github.com/jealous/stockstats/blob/master/stockstats.py\n",
    "# df['dma'] = df['close_10_sma'] - df['close_50_sma']\n",
    "\n",
    "def AMA(df):\n",
    "    return talib.MA(talib.SMA(df['close'], timeperiod=10)-talib.SMA(df['close'], timeperiod=50),  timeperiod=10)"
   ]
  },
  {
   "cell_type": "code",
   "execution_count": 8,
   "id": "80354dc3",
   "metadata": {},
   "outputs": [],
   "source": [
    "# 心理線指標\n",
    "def PSY(priceData, period):\n",
    "    difference = priceData[1:].values - priceData[:-1].values\n",
    "    difference = np.append(0, difference)\n",
    "    difference_dir = np.where(difference > 0, 1, 0)\n",
    "    psy = np.zeros((len(priceData),))\n",
    "    psy[:period] *= np.nan\n",
    "    for i in range(period, len(priceData)):\n",
    "        psy[i] = (difference_dir[i-period+1:i+1].sum()) / period\n",
    "    return psy*100"
   ]
  },
  {
   "cell_type": "code",
   "execution_count": 9,
   "id": "f9b7ec8e",
   "metadata": {},
   "outputs": [],
   "source": [
    "# 區間震盪線\n",
    "def DPO(close):\n",
    "    p = talib.MA(close, timeperiod=11)\n",
    "    p.shift()\n",
    "    return close-p"
   ]
  },
  {
   "cell_type": "code",
   "execution_count": 10,
   "id": "6de77579",
   "metadata": {},
   "outputs": [],
   "source": [
    "# 十字過濾線指標\n",
    "def VHF(close):\n",
    "    LCP = talib.MIN(close, timeperiod=28)\n",
    "    HCP = talib.MAX(close, timeperiod=28)\n",
    "    NUM = HCP - LCP\n",
    "    pre = close.copy()\n",
    "    pre = pre.shift()\n",
    "    DEN = abs(close-close.shift())\n",
    "    DEN = talib.MA(DEN, timeperiod=28)*28\n",
    "    return NUM.div(DEN)"
   ]
  },
  {
   "cell_type": "code",
   "execution_count": 11,
   "id": "dc774511",
   "metadata": {},
   "outputs": [],
   "source": [
    "# 相對活力指數\n",
    "def RVI(df):\n",
    "    close = df.close\n",
    "    open = df.open\n",
    "    high = df.high\n",
    "    low = df.low\n",
    "    X = close-open+2*(close.shift()-open.shift())+2*(close.shift(periods=2)-open.shift(periods=2))*(close.shift(periods=3)-open.shift(periods=3))/6\n",
    "    Y = high-low+2*(high.shift()-low.shift())+2*(high.shift(periods=2)-low.shift(periods=2))*(high.shift(periods=3)-low.shift(periods=3))/6\n",
    "    Z = talib.MA(X, timeperiod=10)*10\n",
    "    D = talib.MA(Y, timeperiod=10)*10\n",
    "    return Z/D"
   ]
  },
  {
   "cell_type": "code",
   "execution_count": 12,
   "id": "9f5fbaff",
   "metadata": {},
   "outputs": [
    {
     "name": "stdout",
     "output_type": "stream",
     "text": [
      "MAVP\n"
     ]
    },
    {
     "name": "stderr",
     "output_type": "stream",
     "text": [
      "c:\\users\\march\\anaconda3\\envs\\env_pca\\lib\\site-packages\\pandas\\core\\reshape\\merge.py:122: PerformanceWarning: DataFrame is highly fragmented.  This is usually the result of calling `frame.insert` many times, which has poor performance.  Consider using pd.concat instead.  To get a de-fragmented frame, use `newframe = frame.copy()`\n",
      "  return op.get_result()\n"
     ]
    },
    {
     "name": "stdout",
     "output_type": "stream",
     "text": [
      "The shape of AF_Futures_NA_Brent Oil.csv:\n",
      "(2566, 191)\n",
      "Save file :　AF_Futures_NA_Brent Oil.csv\n",
      "----------------------------------------------------------------------------------------------------\n",
      "MAVP\n",
      "The shape of AF_Futures_NA_Crude Oil.csv:\n",
      "(2566, 191)\n",
      "Save file :　AF_Futures_NA_Crude Oil.csv\n",
      "----------------------------------------------------------------------------------------------------\n",
      "MAVP\n",
      "The shape of AF_Futures_NA_DalianIronOre.csv:\n",
      "(1880, 191)\n",
      "Save file :　AF_Futures_NA_DalianIronOre.csv\n",
      "----------------------------------------------------------------------------------------------------\n",
      "MAVP\n",
      "The shape of AF_Futures_NA_Gold.csv:\n",
      "(2566, 191)\n",
      "Save file :　AF_Futures_NA_Gold.csv\n",
      "----------------------------------------------------------------------------------------------------\n"
     ]
    }
   ],
   "source": [
    "for filename in filenames:\n",
    "    \n",
    "    # 讀檔案\n",
    "    df = pd.read_csv(f'../Try data mining/data/{filename}')\n",
    "    \n",
    "    # 日期改至 2011-01-01 開始\n",
    "    df = df[df['Date'].between('2011-01-01', '2021-06-30')]\n",
    "    \n",
    "    \n",
    "    if filename != 'DateAdj_Futures_DalianIronOre.csv':\n",
    "        \n",
    "        df = df[['Date', 'Open', 'High', 'Low', 'Price', 'Vol.', 'Change %' ]]\n",
    "        \n",
    "        # 丟掉多餘的 columns, Date 換成 index\n",
    "        df = df.drop(['Change %'], axis='columns').set_index('Date')        \n",
    "          \n",
    "        # Change column name from Vol. to volume\n",
    "        df.rename(columns = {'Vol.':'volume'}, inplace=True)\n",
    "        df.rename(columns = {'Price':'close'}, inplace=True)\n",
    "        \n",
    "    else:\n",
    "        # Date 換成 index\n",
    "        df = df.set_index('Date')    \n",
    "        \n",
    "    \n",
    "    # 將 columns 改成小寫以便之後 talib function 使用\n",
    "    df.columns = df.columns.map(lambda x:x.lower())\n",
    "    \n",
    "    # All columns type change to float\n",
    "    df = df.astype('float')\n",
    "    \n",
    "    # 全部技術指標\n",
    "    ta_list = talib.get_functions()\n",
    "\n",
    "    for x in ta_list:\n",
    "\n",
    "        try:\n",
    "\n",
    "            # x 為技術指標的代碼，透過迴圈填入，再透過 eval 計算出 output\n",
    "            output = eval('abstract.'+x+'(df)')\n",
    "\n",
    "            # 如果輸出是一維資料，幫這個指標取名為 x 本身；多維資料則不需命名\n",
    "            output.name = x.lower() if type(output) == pd.core.series.Series else None\n",
    "\n",
    "            # 透過 merge 把輸出結果併入 df DataFrame\n",
    "            df = pd.merge(df, pd.DataFrame(output), left_on = df.index, right_on = output.index)\n",
    "            df = df.set_index('key_0')\n",
    "\n",
    "        except:\n",
    "\n",
    "            print(x)\n",
    "            \n",
    "            \n",
    "    # 日期特徵值\n",
    "    datetime_series = pd.DatetimeIndex(df.index)\n",
    "    \n",
    "    \n",
    "    df = pd.concat([df, pd.DataFrame(datetime_series.year.rename('year')).set_index(df.index),\n",
    "                    pd.DataFrame(datetime_series.month.rename('month')).set_index(df.index),\n",
    "                    pd.DataFrame(datetime_series.day.rename('day')).set_index(df.index),\n",
    "                    pd.DataFrame(datetime_series.isocalendar().week.rename('weekofyear')).set_index(df.index),\n",
    "                    pd.DataFrame(datetime_series.dayofyear.rename('dayofyear')).set_index(df.index),\n",
    "                    pd.DataFrame(datetime_series.isocalendar().day.rename('dayofweek')).set_index(df.index)], axis=1)\n",
    "    \n",
    "    # 加入六個股票常用指標\n",
    "    df = pd.concat([df, pd.DataFrame(BIAS(df['close'], 20), columns=['bias']).set_index(df.index),\n",
    "                    pd.DataFrame(AMA(df), columns=['ama']),\n",
    "                    pd.DataFrame(PSY(df['close'], 24), columns=['psy']).set_index(df.index),\n",
    "                    pd.DataFrame(DPO(df['close']), columns=['dpo']),\n",
    "                    pd.DataFrame(VHF(df['close']), columns=['vhf']),\n",
    "                    pd.DataFrame(RVI(df), columns=['rvi'])], axis=1)\n",
    "    \n",
    "    splitfilename = filename.split('_')\n",
    "    print(f'The shape of AF_{splitfilename[1]}_NA_{splitfilename[2]}:')\n",
    "    print(df.shape)\n",
    "    \n",
    "     # 存檔\n",
    "    df.to_csv(f'afdata/AF_{splitfilename[1]}_NA_{splitfilename[2]}')\n",
    "    print(f'Save file :　AF_{splitfilename[1]}_NA_{splitfilename[2]}')\n",
    "    print('-'*100)"
   ]
  }
 ],
 "metadata": {
  "kernelspec": {
   "display_name": "local-venv",
   "language": "python",
   "name": "local-venv"
  },
  "language_info": {
   "codemirror_mode": {
    "name": "ipython",
    "version": 3
   },
   "file_extension": ".py",
   "mimetype": "text/x-python",
   "name": "python",
   "nbconvert_exporter": "python",
   "pygments_lexer": "ipython3",
   "version": "3.9.5"
  }
 },
 "nbformat": 4,
 "nbformat_minor": 5
}
